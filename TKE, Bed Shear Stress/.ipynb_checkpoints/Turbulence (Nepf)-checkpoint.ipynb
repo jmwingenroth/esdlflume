{
 "cells": [
  {
   "cell_type": "code",
   "execution_count": 3,
   "metadata": {},
   "outputs": [],
   "source": [
    "import numpy as np\n",
    "import matplotlib.pyplot as plt\n",
    "%matplotlib inline \n",
    "from matplotlib import interactive\n",
    "interactive(True)\n",
    "from mpl_toolkits.mplot3d import Axes3D\n",
    "import pandas as pd\n",
    "import seaborn as sns\n",
    "sns.set()\n",
    "import matplotlib.cm as cm\n",
    "import warnings\n",
    "warnings.filterwarnings('ignore')"
   ]
  },
  {
   "cell_type": "code",
   "execution_count": 53,
   "metadata": {},
   "outputs": [],
   "source": [
    "def solid_volume_fraction(density):\n",
    "    return (0.4*density*1.2*(0.0015875)**2*np.pi)/(1.2*0.4)\n",
    "\n",
    "def k_tb(freq):\n",
    "    u = 0.00196*freq + 0.00081\n",
    "    return 57.53e-6*u**2\n",
    "\n",
    "def k_tv(density, freq):\n",
    "    phi = solid_volume_fraction(density)\n",
    "    u = 0.00196*freq + 0.00081\n",
    "    reynolds = (u*0.003175)/(9.509e-7)\n",
    "    C_d = 1 + 10*reynolds**(-2/3)\n",
    "    return 0.9*C_d**(2/3)*phi**(2/3)*(u**2)"
   ]
  },
  {
   "cell_type": "code",
   "execution_count": 39,
   "metadata": {},
   "outputs": [],
   "source": [
    "low_reynolds = k_tb(10)"
   ]
  },
  {
   "cell_type": "code",
   "execution_count": 65,
   "metadata": {},
   "outputs": [],
   "source": [
    "k_t = k_tv(1450, 30) + k_tb(30)"
   ]
  },
  {
   "cell_type": "code",
   "execution_count": 66,
   "metadata": {},
   "outputs": [
    {
     "data": {
      "text/plain": [
       "0.00019339575771052587"
      ]
     },
     "execution_count": 66,
     "metadata": {},
     "output_type": "execute_result"
    }
   ],
   "source": [
    "k_t"
   ]
  }
 ],
 "metadata": {
  "kernelspec": {
   "display_name": "Python 3",
   "language": "python",
   "name": "python3"
  },
  "language_info": {
   "codemirror_mode": {
    "name": "ipython",
    "version": 3
   },
   "file_extension": ".py",
   "mimetype": "text/x-python",
   "name": "python",
   "nbconvert_exporter": "python",
   "pygments_lexer": "ipython3",
   "version": "3.7.6"
  }
 },
 "nbformat": 4,
 "nbformat_minor": 4
}
