{
 "cells": [
  {
   "cell_type": "code",
   "execution_count": 39,
   "metadata": {},
   "outputs": [],
   "source": [
    "import numpy as np\n",
    "import matplotlib.pyplot as plt\n",
    "%matplotlib inline\n",
    "from mpl_toolkits.mplot3d import Axes3D\n",
    "import pandas as pd\n",
    "from scipy.io import loadmat\n",
    "import warnings\n",
    "warnings.filterwarnings('ignore')"
   ]
  },
  {
   "cell_type": "code",
   "execution_count": 63,
   "metadata": {},
   "outputs": [],
   "source": [
    "#loading all data\n",
    "control_turbulence = loadmat('Turbulence Output/Control Turbulence Profile.mat')['turbulence_values']\n",
    "low_turbulence = loadmat('Turbulence Output/Low Dens Turbulence Profile.mat')['turbulence_values']\n",
    "medium_turbulence = loadmat('Turbulence Output/Medium Dens Turbulence Profile.mat')['turbulence_values']\n",
    "high_turbulence = loadmat('Turbulence Output/High Dens Turbulence Profile.mat')['turbulence_values']\n",
    "all_values = [control_turbulence, low_turbulence, medium_turbulence, high_turbulence]"
   ]
  },
  {
   "cell_type": "code",
   "execution_count": 102,
   "metadata": {},
   "outputs": [
    {
     "data": {
      "text/html": [
       "<div>\n",
       "<style scoped>\n",
       "    .dataframe tbody tr th:only-of-type {\n",
       "        vertical-align: middle;\n",
       "    }\n",
       "\n",
       "    .dataframe tbody tr th {\n",
       "        vertical-align: top;\n",
       "    }\n",
       "\n",
       "    .dataframe thead th {\n",
       "        text-align: right;\n",
       "    }\n",
       "</style>\n",
       "<table border=\"1\" class=\"dataframe\">\n",
       "  <thead>\n",
       "    <tr style=\"text-align: right;\">\n",
       "      <th></th>\n",
       "      <th></th>\n",
       "      <th>Re = 68.15</th>\n",
       "      <th>Re = 133.59</th>\n",
       "      <th>Re = 199.03</th>\n",
       "    </tr>\n",
       "    <tr>\n",
       "      <th>Frontal Area</th>\n",
       "      <th>Height (cm)</th>\n",
       "      <th></th>\n",
       "      <th></th>\n",
       "      <th></th>\n",
       "    </tr>\n",
       "  </thead>\n",
       "  <tbody>\n",
       "  </tbody>\n",
       "</table>\n",
       "</div>"
      ],
      "text/plain": [
       "Empty DataFrame\n",
       "Columns: [Re = 68.15, Re = 133.59, Re = 199.03]\n",
       "Index: []"
      ]
     },
     "execution_count": 102,
     "metadata": {},
     "output_type": "execute_result"
    }
   ],
   "source": [
    "turbulence_table = pd.DataFrame(columns = ['Frontal Area', 'Height (cm)', 'Re = 68.15', 'Re = 133.59', 'Re = 199.03'])\n",
    "turbulence_table.set_index(['Frontal Area', 'Height (cm)'])"
   ]
  },
  {
   "cell_type": "code",
   "execution_count": 95,
   "metadata": {},
   "outputs": [],
   "source": [
    "#this function extracts individual turbulence values\n",
    "def extract_turbulence_values(array):\n",
    "    return_array = []\n",
    "    for i in range(len(array)):\n",
    "        return_array.append(round(array[i][0], 8))\n",
    "    return return_array"
   ]
  },
  {
   "cell_type": "code",
   "execution_count": 101,
   "metadata": {},
   "outputs": [
    {
     "data": {
      "text/plain": [
       "<enumerate at 0x1a46ab5050>"
      ]
     },
     "execution_count": 101,
     "metadata": {},
     "output_type": "execute_result"
    }
   ],
   "source": [
    "enumerate(all_values)"
   ]
  },
  {
   "cell_type": "code",
   "execution_count": null,
   "metadata": {},
   "outputs": [],
   "source": [
    "for i in range(len(all_values)):\n",
    "    for j in all_values"
   ]
  }
 ],
 "metadata": {
  "kernelspec": {
   "display_name": "Python 3",
   "language": "python",
   "name": "python3"
  },
  "language_info": {
   "codemirror_mode": {
    "name": "ipython",
    "version": 3
   },
   "file_extension": ".py",
   "mimetype": "text/x-python",
   "name": "python",
   "nbconvert_exporter": "python",
   "pygments_lexer": "ipython3",
   "version": "3.7.6"
  }
 },
 "nbformat": 4,
 "nbformat_minor": 4
}
